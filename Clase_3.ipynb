{
  "cells": [
    {
      "cell_type": "markdown",
      "metadata": {
        "id": "view-in-github",
        "colab_type": "text"
      },
      "source": [
        "<a href=\"https://colab.research.google.com/github/soyeagonzalez/TalentoTECH/blob/main/Clase_3.ipynb\" target=\"_parent\"><img src=\"https://colab.research.google.com/assets/colab-badge.svg\" alt=\"Open In Colab\"/></a>"
      ]
    },
    {
      "cell_type": "markdown",
      "metadata": {
        "id": "cQnaPAyHfiM5"
      },
      "source": [
        "## Contenido\n",
        "1. Ciclos\n",
        "  - while\n",
        "  - for\n",
        "\n",
        "2. Estructuras de datos\n",
        "  - Listas\n",
        "  - Tuplas\n",
        "  - Conjuntos\n",
        "  - Dicionarios"
      ]
    },
    {
      "cell_type": "markdown",
      "metadata": {
        "id": "AhbBeghbCU9v"
      },
      "source": [
        "Comparación\n",
        "\n",
        "```\n",
        "==\n",
        "<\n",
        "<=\n",
        ">\n",
        ">=\n",
        "!=\n",
        "```\n",
        "\n"
      ]
    },
    {
      "cell_type": "markdown",
      "metadata": {
        "id": "pg1DeMV6jtrc"
      },
      "source": [
        "## Tipo de datos\n",
        "\n",
        "- `int` : Números enteros\n",
        "- `float` : Númros con punto decimal\n",
        "- `char` : Caracter - se define entre comillas simples o dobles\n",
        "- `str` : Cadena de caracteres - se define entre comillas simples o dobles"
      ]
    },
    {
      "cell_type": "code",
      "execution_count": 18,
      "metadata": {
        "id": "DpDyqFvVmulp",
        "colab": {
          "base_uri": "https://localhost:8080/"
        },
        "outputId": "6d7dc86a-29c5-4078-e86c-e593a88bead8"
      },
      "outputs": [
        {
          "output_type": "stream",
          "name": "stdout",
          "text": [
            "1000\n"
          ]
        }
      ],
      "source": [
        "numero = 10\n",
        "print(numero * numero * numero)"
      ]
    },
    {
      "cell_type": "code",
      "source": [
        "numero + numero"
      ],
      "metadata": {
        "colab": {
          "base_uri": "https://localhost:8080/"
        },
        "id": "dj-r31ewlY80",
        "outputId": "ec5c849e-3080-48fa-a667-e0242c1647d5"
      },
      "execution_count": 6,
      "outputs": [
        {
          "output_type": "execute_result",
          "data": {
            "text/plain": [
              "20"
            ]
          },
          "metadata": {},
          "execution_count": 6
        }
      ]
    },
    {
      "cell_type": "code",
      "execution_count": 4,
      "metadata": {
        "id": "oaFPqzZ_lK0T"
      },
      "outputs": [],
      "source": [
        "variable = '20'"
      ]
    },
    {
      "cell_type": "code",
      "execution_count": 5,
      "metadata": {
        "colab": {
          "base_uri": "https://localhost:8080/",
          "height": 36
        },
        "id": "Yr83p8sflCFj",
        "outputId": "99098fd0-9223-406a-eb7d-ce36b8c7fffb"
      },
      "outputs": [
        {
          "output_type": "execute_result",
          "data": {
            "text/plain": [
              "'2020'"
            ],
            "application/vnd.google.colaboratory.intrinsic+json": {
              "type": "string"
            }
          },
          "metadata": {},
          "execution_count": 5
        }
      ],
      "source": [
        "variable + variable"
      ]
    },
    {
      "cell_type": "code",
      "execution_count": 15,
      "metadata": {
        "colab": {
          "base_uri": "https://localhost:8080/",
          "height": 36
        },
        "id": "5r7xG-8TlSeP",
        "outputId": "87505b98-62fe-4931-a8cd-01e66da6223b"
      },
      "outputs": [
        {
          "output_type": "execute_result",
          "data": {
            "text/plain": [
              "'2020202020'"
            ],
            "application/vnd.google.colaboratory.intrinsic+json": {
              "type": "string"
            }
          },
          "metadata": {},
          "execution_count": 15
        }
      ],
      "source": [
        "variable * 5"
      ]
    },
    {
      "cell_type": "code",
      "execution_count": 10,
      "metadata": {
        "colab": {
          "base_uri": "https://localhost:8080/",
          "height": 141
        },
        "id": "dibwoIlalg3x",
        "outputId": "851fc043-ab60-4789-aca0-3ed08b019877"
      },
      "outputs": [
        {
          "output_type": "error",
          "ename": "TypeError",
          "evalue": "can't multiply sequence by non-int of type 'str'",
          "traceback": [
            "\u001b[0;31m---------------------------------------------------------------------------\u001b[0m",
            "\u001b[0;31mTypeError\u001b[0m                                 Traceback (most recent call last)",
            "\u001b[0;32m<ipython-input-10-2fd480e9150a>\u001b[0m in \u001b[0;36m<cell line: 0>\u001b[0;34m()\u001b[0m\n\u001b[0;32m----> 1\u001b[0;31m \u001b[0mvariable\u001b[0m \u001b[0;34m*\u001b[0m \u001b[0mvariable\u001b[0m\u001b[0;34m\u001b[0m\u001b[0;34m\u001b[0m\u001b[0m\n\u001b[0m",
            "\u001b[0;31mTypeError\u001b[0m: can't multiply sequence by non-int of type 'str'"
          ]
        }
      ],
      "source": [
        "variable * variable"
      ]
    },
    {
      "cell_type": "code",
      "execution_count": null,
      "metadata": {
        "colab": {
          "base_uri": "https://localhost:8080/",
          "height": 36
        },
        "id": "8peiyM53lrdt",
        "outputId": "0c0b60e1-fa2b-4760-cc5d-1a17e41bae5e"
      },
      "outputs": [
        {
          "data": {
            "application/vnd.google.colaboratory.intrinsic+json": {
              "type": "string"
            },
            "text/plain": [
              "'2020202020'"
            ]
          },
          "execution_count": 14,
          "metadata": {},
          "output_type": "execute_result"
        }
      ],
      "source": [
        "variable * 5"
      ]
    },
    {
      "cell_type": "code",
      "execution_count": 11,
      "metadata": {
        "colab": {
          "base_uri": "https://localhost:8080/",
          "height": 141
        },
        "id": "RzDEWvm2nqLE",
        "outputId": "82321ad6-68c5-447c-cf7c-b61c15513259"
      },
      "outputs": [
        {
          "output_type": "error",
          "ename": "TypeError",
          "evalue": "unsupported operand type(s) for /: 'str' and 'str'",
          "traceback": [
            "\u001b[0;31m---------------------------------------------------------------------------\u001b[0m",
            "\u001b[0;31mTypeError\u001b[0m                                 Traceback (most recent call last)",
            "\u001b[0;32m<ipython-input-11-7cbcdaa767f4>\u001b[0m in \u001b[0;36m<cell line: 0>\u001b[0;34m()\u001b[0m\n\u001b[0;32m----> 1\u001b[0;31m \u001b[0mvariable\u001b[0m \u001b[0;34m/\u001b[0m \u001b[0mvariable\u001b[0m\u001b[0;34m\u001b[0m\u001b[0;34m\u001b[0m\u001b[0m\n\u001b[0m",
            "\u001b[0;31mTypeError\u001b[0m: unsupported operand type(s) for /: 'str' and 'str'"
          ]
        }
      ],
      "source": [
        "variable / variable"
      ]
    },
    {
      "cell_type": "code",
      "execution_count": 12,
      "metadata": {
        "colab": {
          "base_uri": "https://localhost:8080/",
          "height": 141
        },
        "id": "iRz-6G5kntB0",
        "outputId": "11ebcaf3-452f-415c-9d3b-419cb722352f"
      },
      "outputs": [
        {
          "output_type": "error",
          "ename": "TypeError",
          "evalue": "unsupported operand type(s) for /: 'str' and 'int'",
          "traceback": [
            "\u001b[0;31m---------------------------------------------------------------------------\u001b[0m",
            "\u001b[0;31mTypeError\u001b[0m                                 Traceback (most recent call last)",
            "\u001b[0;32m<ipython-input-12-613933e4f656>\u001b[0m in \u001b[0;36m<cell line: 0>\u001b[0;34m()\u001b[0m\n\u001b[0;32m----> 1\u001b[0;31m \u001b[0mvariable\u001b[0m \u001b[0;34m/\u001b[0m \u001b[0;36m2\u001b[0m\u001b[0;34m\u001b[0m\u001b[0;34m\u001b[0m\u001b[0m\n\u001b[0m",
            "\u001b[0;31mTypeError\u001b[0m: unsupported operand type(s) for /: 'str' and 'int'"
          ]
        }
      ],
      "source": [
        "variable / 2"
      ]
    },
    {
      "cell_type": "markdown",
      "metadata": {
        "id": "TLXr-61-hPza"
      },
      "source": [
        "## Condicionales `if` `elif` `else`\n",
        "\n",
        "![image.png](data:image/png;base64,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)\n",
        "\n",
        "\n"
      ]
    },
    {
      "cell_type": "markdown",
      "metadata": {
        "id": "XUvcBiJ66NpJ"
      },
      "source": [
        "**Sintaxis en Python**\n",
        "\n",
        "```\n",
        "if CONDICION:\n",
        "  INSTRUCCIONES SI CONDICION ES VERDADERO\n",
        "else:\n",
        "  INSTRUCCIONES SI CONDICION ES FALSA\n",
        "```\n",
        "\n"
      ]
    },
    {
      "cell_type": "code",
      "execution_count": 7,
      "metadata": {
        "colab": {
          "base_uri": "https://localhost:8080/",
          "height": 356
        },
        "id": "iOdIWWyOicrl",
        "outputId": "2ac62689-bbc7-4c50-9b6b-9c9fa80bedfb"
      },
      "outputs": [
        {
          "output_type": "error",
          "ename": "KeyboardInterrupt",
          "evalue": "Interrupted by user",
          "traceback": [
            "\u001b[0;31m---------------------------------------------------------------------------\u001b[0m",
            "\u001b[0;31mKeyboardInterrupt\u001b[0m                         Traceback (most recent call last)",
            "\u001b[0;32m<ipython-input-7-a3f7c42c38fe>\u001b[0m in \u001b[0;36m<cell line: 0>\u001b[0;34m()\u001b[0m\n\u001b[0;32m----> 1\u001b[0;31m \u001b[0medad\u001b[0m \u001b[0;34m=\u001b[0m \u001b[0minput\u001b[0m\u001b[0;34m(\u001b[0m\u001b[0;34m\"Ingrese la edad:\"\u001b[0m\u001b[0;34m)\u001b[0m\u001b[0;34m\u001b[0m\u001b[0;34m\u001b[0m\u001b[0m\n\u001b[0m\u001b[1;32m      2\u001b[0m \u001b[0;34m\u001b[0m\u001b[0m\n\u001b[1;32m      3\u001b[0m \u001b[0;31m# Convertir de str a int\u001b[0m\u001b[0;34m\u001b[0m\u001b[0;34m\u001b[0m\u001b[0m\n\u001b[1;32m      4\u001b[0m \u001b[0medad\u001b[0m \u001b[0;34m=\u001b[0m \u001b[0mint\u001b[0m\u001b[0;34m(\u001b[0m\u001b[0medad\u001b[0m\u001b[0;34m)\u001b[0m\u001b[0;34m\u001b[0m\u001b[0;34m\u001b[0m\u001b[0m\n\u001b[1;32m      5\u001b[0m \u001b[0;34m\u001b[0m\u001b[0m\n",
            "\u001b[0;32m/usr/local/lib/python3.11/dist-packages/ipykernel/kernelbase.py\u001b[0m in \u001b[0;36mraw_input\u001b[0;34m(self, prompt)\u001b[0m\n\u001b[1;32m   1175\u001b[0m                 \u001b[0;34m\"raw_input was called, but this frontend does not support input requests.\"\u001b[0m\u001b[0;34m\u001b[0m\u001b[0;34m\u001b[0m\u001b[0m\n\u001b[1;32m   1176\u001b[0m             )\n\u001b[0;32m-> 1177\u001b[0;31m         return self._input_request(\n\u001b[0m\u001b[1;32m   1178\u001b[0m             \u001b[0mstr\u001b[0m\u001b[0;34m(\u001b[0m\u001b[0mprompt\u001b[0m\u001b[0;34m)\u001b[0m\u001b[0;34m,\u001b[0m\u001b[0;34m\u001b[0m\u001b[0;34m\u001b[0m\u001b[0m\n\u001b[1;32m   1179\u001b[0m             \u001b[0mself\u001b[0m\u001b[0;34m.\u001b[0m\u001b[0m_parent_ident\u001b[0m\u001b[0;34m[\u001b[0m\u001b[0;34m\"shell\"\u001b[0m\u001b[0;34m]\u001b[0m\u001b[0;34m,\u001b[0m\u001b[0;34m\u001b[0m\u001b[0;34m\u001b[0m\u001b[0m\n",
            "\u001b[0;32m/usr/local/lib/python3.11/dist-packages/ipykernel/kernelbase.py\u001b[0m in \u001b[0;36m_input_request\u001b[0;34m(self, prompt, ident, parent, password)\u001b[0m\n\u001b[1;32m   1217\u001b[0m             \u001b[0;32mexcept\u001b[0m \u001b[0mKeyboardInterrupt\u001b[0m\u001b[0;34m:\u001b[0m\u001b[0;34m\u001b[0m\u001b[0;34m\u001b[0m\u001b[0m\n\u001b[1;32m   1218\u001b[0m                 \u001b[0;31m# re-raise KeyboardInterrupt, to truncate traceback\u001b[0m\u001b[0;34m\u001b[0m\u001b[0;34m\u001b[0m\u001b[0m\n\u001b[0;32m-> 1219\u001b[0;31m                 \u001b[0;32mraise\u001b[0m \u001b[0mKeyboardInterrupt\u001b[0m\u001b[0;34m(\u001b[0m\u001b[0;34m\"Interrupted by user\"\u001b[0m\u001b[0;34m)\u001b[0m \u001b[0;32mfrom\u001b[0m \u001b[0;32mNone\u001b[0m\u001b[0;34m\u001b[0m\u001b[0;34m\u001b[0m\u001b[0m\n\u001b[0m\u001b[1;32m   1220\u001b[0m             \u001b[0;32mexcept\u001b[0m \u001b[0mException\u001b[0m\u001b[0;34m:\u001b[0m\u001b[0;34m\u001b[0m\u001b[0;34m\u001b[0m\u001b[0m\n\u001b[1;32m   1221\u001b[0m                 \u001b[0mself\u001b[0m\u001b[0;34m.\u001b[0m\u001b[0mlog\u001b[0m\u001b[0;34m.\u001b[0m\u001b[0mwarning\u001b[0m\u001b[0;34m(\u001b[0m\u001b[0;34m\"Invalid Message:\"\u001b[0m\u001b[0;34m,\u001b[0m \u001b[0mexc_info\u001b[0m\u001b[0;34m=\u001b[0m\u001b[0;32mTrue\u001b[0m\u001b[0;34m)\u001b[0m\u001b[0;34m\u001b[0m\u001b[0;34m\u001b[0m\u001b[0m\n",
            "\u001b[0;31mKeyboardInterrupt\u001b[0m: Interrupted by user"
          ]
        }
      ],
      "source": [
        "edad = input(\"Ingrese la edad:\")\n",
        "\n",
        "# Convertir de str a int\n",
        "edad = int(edad)\n",
        "\n",
        "# Queremos categorizar edad, si edad es mayor a 18, entonces escribir que es mayor de edad\n",
        "if edad >= 18:\n",
        "  print(\"Mayor de edad\")\n",
        "  # más instrucciones\n",
        "else:\n",
        "  print(\"Menor de edad\")\n",
        "  # más instrucciones"
      ]
    },
    {
      "cell_type": "code",
      "source": [
        "edad = input('Ingrese la edad:') # se solicita al usuario que ingrese la edad\n",
        "edad = int(edad) # se convierte de str a int\n",
        "\n",
        "# categorías:\n",
        "# 0 - 17 : niño\n",
        "# 18 - 25 : adulto joven\n",
        "# 18 - 65 : adulto\n",
        "# 65 - ... : adulto mayor\n",
        "if edad < 18:\n",
        "  print(\"niño\")\n",
        "if edad >= 18 and edad <= 25:\n",
        "  print(\"adulto joven\")\n",
        "if edad >= 18 and edad <= 65:\n",
        "  print(\"adulto\")\n",
        "else:\n",
        "  print(\"adulto mayor\")"
      ],
      "metadata": {
        "colab": {
          "base_uri": "https://localhost:8080/"
        },
        "id": "BD3wmM_szDfF",
        "outputId": "bf94c1b0-7fed-43e7-9885-9d1c222475bd"
      },
      "execution_count": 12,
      "outputs": [
        {
          "output_type": "stream",
          "name": "stdout",
          "text": [
            "Ingrese la edad:22\n",
            "adulto joven\n",
            "adulto\n"
          ]
        }
      ]
    },
    {
      "cell_type": "code",
      "execution_count": null,
      "metadata": {
        "colab": {
          "base_uri": "https://localhost:8080/"
        },
        "id": "60kMX3Oaz5fE",
        "outputId": "02cc3e6f-6cd4-4c76-dcb0-f62818e81769"
      },
      "outputs": [
        {
          "name": "stdout",
          "output_type": "stream",
          "text": [
            "Ingrese la edad:70\n",
            "adyulto mayor\n"
          ]
        }
      ],
      "source": [
        "edad = input('Ingrese la edad:')\n",
        "\n",
        "# Convertir de str a int\n",
        "edad = int(edad)\n",
        "# categorías:\n",
        "# 0 - 16 : niño\n",
        "# 17 - 25 : adulto joven\n",
        "# 26 - 59 : adulto\n",
        "# 60 en adelante : adulto mayor\n",
        "if edad <= 16:\n",
        "  print('niño')\n",
        "else:\n",
        "  if edad <= 25:\n",
        "    print('adulto joven')\n",
        "  else:\n",
        "    if edad <= 59:\n",
        "      print('adulto')\n",
        "    else:\n",
        "      print('adulto mayor')"
      ]
    },
    {
      "cell_type": "code",
      "execution_count": 9,
      "metadata": {
        "colab": {
          "base_uri": "https://localhost:8080/"
        },
        "id": "MLrANV4dvcUO",
        "outputId": "4d63ed74-a244-46ca-cae7-94268b7c6308"
      },
      "outputs": [
        {
          "output_type": "stream",
          "name": "stdout",
          "text": [
            "Ingrese la edad:18\n",
            "juvenil\n"
          ]
        }
      ],
      "source": [
        "edad = input('Ingrese la edad:')\n",
        "\n",
        "# Convertir de str a int\n",
        "edad = int(edad)\n",
        "\n",
        "# categorías:\n",
        "# 0 - 5 : infantil\n",
        "# 6 - 12 : juvenil\n",
        "# 13 - 16: adolescente\n",
        "# 17 - 25 : adulto joven\n",
        "# 26 - 59 : adulto\n",
        "# 60 en adelante : adulto mayor\n",
        "\n",
        "if edad <= 5:\n",
        "  print('infantil')\n",
        "elif edad > 5 or edad <= 12:\n",
        "  print('juvenil')\n",
        "elif edad > 12 or edad <= 16:\n",
        "  print('adolescente')\n",
        "elif edad > 16 or edad <= 25:\n",
        "  print('adulto joven')\n",
        "elif 25 < edad <= 59:\n",
        "  print('adulto')\n",
        "else:\n",
        "  print('adulto mayor')\n"
      ]
    },
    {
      "cell_type": "markdown",
      "metadata": {
        "id": "W9wEeoISG8L7"
      },
      "source": [
        "## **Ciclo Mientras** `while`\n",
        "\n",
        "Se ejecuta mientras una condición sea verdadera. No tiene un número fijo de iteraciones, sino que depende de que la condición siga cumpliéndose.\n"
      ]
    },
    {
      "cell_type": "markdown",
      "metadata": {
        "id": "-AAQjf2jG7h9"
      },
      "source": [
        "![image.png](data:image/png;base64,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)"
      ]
    },
    {
      "cell_type": "markdown",
      "metadata": {
        "id": "n7MkPAdF9tLK"
      },
      "source": [
        "**Sintaxis** `while`\n",
        "\n",
        "\n",
        "```\n",
        "while CONDICION:\n",
        "  INSTRUCCIONES\n",
        "```\n",
        "\n"
      ]
    },
    {
      "cell_type": "code",
      "execution_count": null,
      "metadata": {
        "colab": {
          "base_uri": "https://localhost:8080/"
        },
        "id": "kiMZj5uvKIXw",
        "outputId": "8cd6197e-6ce9-48f9-a7e7-385e6053f9d6"
      },
      "outputs": [
        {
          "name": "stdout",
          "output_type": "stream",
          "text": [
            "1\n",
            "2\n",
            "3\n",
            "4\n",
            "5\n"
          ]
        }
      ],
      "source": [
        "# Imprimir en pantalla los números de 1 hasta 5\n",
        "numero = 1\n",
        "\n",
        "while numero <= 5:\n",
        "  print(numero)\n",
        "  numero = numero + 1\n"
      ]
    },
    {
      "cell_type": "code",
      "execution_count": 22,
      "metadata": {
        "colab": {
          "base_uri": "https://localhost:8080/"
        },
        "id": "aln-zTQ5DAGm",
        "outputId": "7f0b4c76-0d0c-4f75-e534-c06caca984e9"
      },
      "outputs": [
        {
          "output_type": "stream",
          "name": "stdout",
          "text": [
            "¿Cuántos años tienes? 64\n",
            "Edad actual: 65\n",
            "Te has pensionado\n"
          ]
        }
      ],
      "source": [
        "# Imprimir en pantalla los números y detener en 10\n",
        "edad = int(input(\"¿Cuántos años tienes? \"))\n",
        "\n",
        "while edad <= 64:\n",
        "  edad = edad + 1\n",
        "  print(\"Edad actual:\",edad)\n",
        "print(\"Te has pensionado\")"
      ]
    },
    {
      "cell_type": "code",
      "source": [
        "# Ejercicio que simula la edad de Benjamin Button (película)\n",
        "edad_de_BB = int(input(\"¿Con cuántos años nació Benjamin Button? \"))\n",
        "\n",
        "while edad_de_BB >= 0:\n",
        "  print(\"La edad actual de Benjamin Button es\", edad_de_BB)\n",
        "  edad_de_BB -= 1\n",
        "\n",
        "print(\"Benjamin Button ha fallecido\")"
      ],
      "metadata": {
        "id": "n25lF2Zc-fS3"
      },
      "execution_count": null,
      "outputs": []
    },
    {
      "cell_type": "markdown",
      "metadata": {
        "id": "zkulHeSfC3ir"
      },
      "source": [
        "Generar los primeros 10 números pares con su respectivo índice:\n",
        "\n",
        "Procedimiento:\n",
        "- ¿Qué es un número par?\n",
        "  - Múltiplos de 2\n",
        "- ¿Cómo determinamos que un número par?\n",
        "  - Al dividirlos en 2, el residuo es 0\n",
        "- ¿Cómo calculamos el residuo?\n",
        "  - cociente * 2 - contador = 0\n",
        "- ¿Cómo calcular el residuo en Python?\n",
        "  - Operador modulo `%`\n"
      ]
    },
    {
      "cell_type": "code",
      "execution_count": null,
      "metadata": {
        "colab": {
          "base_uri": "https://localhost:8080/"
        },
        "id": "VYKL1JMFF6F8",
        "outputId": "d5946447-b2c3-4649-c6f5-93e518cc033e"
      },
      "outputs": [
        {
          "name": "stdout",
          "output_type": "stream",
          "text": [
            "2\n",
            "1\n"
          ]
        }
      ],
      "source": [
        "print(5 % 3) # Devuelve el residuo de dividir 5 entre 3\n",
        "print(4 % 3) # Devuelve el residuo de dividir 4 entre 3"
      ]
    },
    {
      "cell_type": "code",
      "execution_count": null,
      "metadata": {
        "colab": {
          "base_uri": "https://localhost:8080/"
        },
        "id": "bJW_UgeFC2XB",
        "outputId": "3296e69d-7ae6-468c-ee47-278376435109"
      },
      "outputs": [
        {
          "name": "stdout",
          "output_type": "stream",
          "text": [
            "1 2\n",
            "2 4\n",
            "3 6\n",
            "4 8\n",
            "5 10\n",
            "6 12\n",
            "7 14\n",
            "8 16\n",
            "9 18\n",
            "10 20\n"
          ]
        }
      ],
      "source": [
        "contador = 1 # cuenta los números pares\n",
        "numero = 1 #\n",
        "\n",
        "while contador <= 10:\n",
        "  residuo = numero % 2\n",
        "  if residuo == 0:\n",
        "    print(contador, numero)\n",
        "    contador += 1 # contador = contador + 1\n",
        "  numero += 1\n",
        "\n"
      ]
    },
    {
      "cell_type": "markdown",
      "metadata": {
        "id": "-DuSy7LcG2RA"
      },
      "source": [
        "## **Ciclo Para** `for`\n",
        "\n",
        "Itera un número determinado de veces. Generalmente, se usa cuando sabemos de antemano cuántas veces queremos repetir el proceso."
      ]
    },
    {
      "cell_type": "markdown",
      "metadata": {
        "id": "gnI9pmmlJ-2v"
      },
      "source": [
        "![image.png](data:image/png;base64,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)"
      ]
    },
    {
      "cell_type": "markdown",
      "metadata": {
        "id": "GPVV78jR0hwA"
      },
      "source": [
        "**Sintaxis** `for`\n",
        "\n",
        "\n",
        "```\n",
        "for i=1 hasta n con incremento 1:\n",
        "  PROCESO\n",
        "```\n",
        "\n",
        "\n",
        "\n",
        "Python\n",
        "```\n",
        "for i in ['sentadillas','abdominales','flexiones','tijeras']:\n",
        "  REALIZAR ACCION (Bloque código)\n",
        "```"
      ]
    },
    {
      "cell_type": "markdown",
      "metadata": {
        "id": "NAM_PgjW32oG"
      },
      "source": [
        "`valor < criterio parada`\n",
        "\n",
        "$[a,b)$"
      ]
    },
    {
      "cell_type": "code",
      "execution_count": 28,
      "metadata": {
        "colab": {
          "base_uri": "https://localhost:8080/"
        },
        "id": "5zJs7seV21oW",
        "outputId": "da7455a4-04ca-402b-c7af-f176226658b6"
      },
      "outputs": [
        {
          "output_type": "stream",
          "name": "stdout",
          "text": [
            "1\n",
            "2\n",
            "3\n",
            "4\n",
            "5\n"
          ]
        }
      ],
      "source": [
        "# Imprimir en pantalla los números de 1 hasta 5\n",
        "for i in range(1,6,1):\n",
        "  print(i)"
      ]
    },
    {
      "cell_type": "code",
      "source": [
        "# Imprimir cada elemento de la lista\n",
        "lista_de_colores = [\"Amarillo\", \"azul\", \"ROJO\", \"fucsia\", \"café\", \"beige\", \"blanco\", \"negro\"]\n",
        "posicion = 0\n",
        "\n",
        "while posicion <= 7:\n",
        "  print(lista_de_colores[posicion])\n",
        "  posicion += 1"
      ],
      "metadata": {
        "colab": {
          "base_uri": "https://localhost:8080/"
        },
        "id": "8YL0CSM_Ejd2",
        "outputId": "89bae2f7-4ca5-4a67-bba0-b7050d04a36b"
      },
      "execution_count": 33,
      "outputs": [
        {
          "output_type": "stream",
          "name": "stdout",
          "text": [
            "Amarillo\n",
            "azul\n",
            "ROJO\n",
            "fucsia\n",
            "café\n",
            "beige\n",
            "blanco\n",
            "negro\n"
          ]
        }
      ]
    },
    {
      "cell_type": "code",
      "source": [
        "# Imprimir:\n",
        "# 1) el tamaño de la lista de colores\n",
        "# 2) la posición 4 de la lista de colores\n",
        "# 3) cada uno de los elementos de la lista de colores usando range\n",
        "\n",
        "lista_de_colores = [\"Amarillo\", \"azul\", \"ROJO\", \"fucsia\", \"café\", \"beige\", \"blanco\", \"negro\"]\n",
        "print(\"1) El tamaño de la lista de colores es\",len(lista_de_colores))\n",
        "\n",
        "print(\"2) El color de la posición 4 de la lista de colores es\",lista_de_colores[4])\n",
        "\n",
        "print(\"3) Los elementos de la lista de colores son:\")\n",
        "for color in range(0,len(lista_de_colores),1):\n",
        "  print(lista_de_colores[color])"
      ],
      "metadata": {
        "colab": {
          "base_uri": "https://localhost:8080/"
        },
        "id": "6GN1M1IfErDZ",
        "outputId": "93219301-eea9-4d1a-ccbf-d5f974e255fc"
      },
      "execution_count": 49,
      "outputs": [
        {
          "output_type": "stream",
          "name": "stdout",
          "text": [
            "1) El tamaño de la lista de colores es 8\n",
            "2) El color de la posición 4 de la lista de colores es café\n",
            "3) Los elementos de la lista de colores son:\n",
            "Amarillo\n",
            "azul\n",
            "ROJO\n",
            "fucsia\n",
            "café\n",
            "beige\n",
            "blanco\n",
            "negro\n"
          ]
        }
      ]
    },
    {
      "cell_type": "code",
      "source": [
        "# Imprimir cada uno de los elementos de la lista de colores sin range (recorriendo la lista dada)\n",
        "\n",
        "lista_de_colores = [\"Amarillo\", \"azul\", \"ROJO\", \"fucsia\", \"café\", \"beige\", \"blanco\", \"negro\"]\n",
        "\n",
        "for color in lista_de_colores:\n",
        "  print(color)"
      ],
      "metadata": {
        "colab": {
          "base_uri": "https://localhost:8080/"
        },
        "id": "fizvAb20IZFS",
        "outputId": "5939a963-d28b-4447-cc64-56aadf3e844c"
      },
      "execution_count": 59,
      "outputs": [
        {
          "output_type": "stream",
          "name": "stdout",
          "text": [
            "Amarillo\n",
            "azul\n",
            "ROJO\n",
            "fucsia\n",
            "café\n",
            "beige\n",
            "blanco\n",
            "negro\n"
          ]
        }
      ]
    },
    {
      "cell_type": "code",
      "execution_count": 55,
      "metadata": {
        "colab": {
          "base_uri": "https://localhost:8080/"
        },
        "id": "cJJXEupU66Oq",
        "outputId": "f9d2e203-1519-4f09-ffb3-09b34ef35316"
      },
      "outputs": [
        {
          "output_type": "stream",
          "name": "stdout",
          "text": [
            "Realizando el ejercicio sentadillas\n",
            "Realizando el ejercicio abdominales\n",
            "Realizando el ejercicio flexiones\n",
            "Realizando el ejercicio tijeras\n"
          ]
        }
      ],
      "source": [
        "for ejercicio in ['sentadillas','abdominales','flexiones','tijeras']:\n",
        "  print('Realizando el ejercicio', ejercicio)"
      ]
    },
    {
      "cell_type": "code",
      "execution_count": null,
      "metadata": {
        "colab": {
          "base_uri": "https://localhost:8080/"
        },
        "id": "2478v7H77S7b",
        "outputId": "d0be9bbe-0edc-4a04-8175-f4dbb7e75c02"
      },
      "outputs": [
        {
          "name": "stdout",
          "output_type": "stream",
          "text": [
            "Realizando el ejercicio sentadillas\n",
            "Realizando el ejercicio abdominales\n",
            "Realizando el ejercicio flexiones\n",
            "Realizando el ejercicio tijeras\n"
          ]
        }
      ],
      "source": [
        "lista_de_ejercicios = ['sentadillas','abdominales','flexiones','tijeras']\n",
        "\n",
        "for ejercicio in lista_de_ejercicios:\n",
        "  print('Realizando el ejercicio', ejercicio)"
      ]
    },
    {
      "cell_type": "code",
      "execution_count": 57,
      "metadata": {
        "colab": {
          "base_uri": "https://localhost:8080/"
        },
        "id": "kktI9jIp_gMH",
        "outputId": "1fa786df-b6b5-4662-eeda-e45795d69ef8"
      },
      "outputs": [
        {
          "output_type": "execute_result",
          "data": {
            "text/plain": [
              "5"
            ]
          },
          "metadata": {},
          "execution_count": 57
        }
      ],
      "source": [
        "lista_de_ejercicios = ['sentadillas','abdominales','flexiones','tijeras','estiramiento']\n",
        "\n",
        "# lista_de_ejercicios[2] Obtiene a la posición 2 de la variable lita_de_ejercicios\n",
        "\n",
        "print(len(lista_de_ejercicios[2]))\n"
      ]
    },
    {
      "cell_type": "code",
      "execution_count": 60,
      "metadata": {
        "colab": {
          "base_uri": "https://localhost:8080/"
        },
        "id": "UdFiVTbkAVFv",
        "outputId": "dcc85b6d-dea0-4a8e-d229-93d07e98b0e7"
      },
      "outputs": [
        {
          "output_type": "stream",
          "name": "stdout",
          "text": [
            "Realizando el ejercicio sentadillas\n",
            "Realizando el ejercicio abdominales\n",
            "Realizando el ejercicio flexiones\n",
            "Realizando el ejercicio tijeras\n"
          ]
        }
      ],
      "source": [
        "lista_de_ejercicios = ['sentadillas','abdominales','flexiones','tijeras']\n",
        "\n",
        "for i in range(4): # range(0,4,1)\n",
        "  # 0,1,2,3\n",
        "  print('Realizando el ejercicio', lista_de_ejercicios[i])"
      ]
    },
    {
      "cell_type": "code",
      "execution_count": 61,
      "metadata": {
        "colab": {
          "base_uri": "https://localhost:8080/"
        },
        "id": "MlmOlB9gBas8",
        "outputId": "fc56a74f-9797-4120-f4a1-fe024a13119d"
      },
      "outputs": [
        {
          "output_type": "stream",
          "name": "stdout",
          "text": [
            "Realizando el ejercicio sentadillas\n",
            "Realizando el ejercicio abdominales\n",
            "Realizando el ejercicio flexiones\n",
            "Realizando el ejercicio tijeras\n"
          ]
        }
      ],
      "source": [
        "lista_de_ejercicios = ['sentadillas','abdominales','flexiones','tijeras']\n",
        "\n",
        "for i in range(len(lista_de_ejercicios)): # range(0,4,1)\n",
        "  # 0,1,2,3\n",
        "  print('Realizando el ejercicio', lista_de_ejercicios[i])\n"
      ]
    },
    {
      "cell_type": "code",
      "execution_count": 68,
      "metadata": {
        "colab": {
          "base_uri": "https://localhost:8080/"
        },
        "id": "9T0bZrwJBclY",
        "outputId": "6ce3041f-f80a-4f52-eacb-7591e7f5ca4f"
      },
      "outputs": [
        {
          "output_type": "stream",
          "name": "stdout",
          "text": [
            "Ejercicio 1 : sentadillas\n",
            "Ejercicio 2 : abdominales\n",
            "Ejercicio 3 : flexiones\n",
            "Ejercicio 4 : sentadillas\n",
            "Ejercicio 5 : tijeras\n",
            "Ejercicio 6 : calentamiento\n"
          ]
        }
      ],
      "source": [
        "lista_de_ejercicios = ['sentadillas','abdominales','flexiones', 'sentadillas', 'tijeras','calentamiento']\n",
        "for i in range(len(lista_de_ejercicios)): # range(0,6,1)\n",
        "  print('Ejercicio', i+1, ':', lista_de_ejercicios[i])\n",
        "\n",
        "# ejercicio 1: sentadillas\n",
        "# ejercicio 2: abdominales\n",
        "# ...\n"
      ]
    },
    {
      "cell_type": "markdown",
      "metadata": {
        "id": "m6unAU2JILbP"
      },
      "source": [
        "**Ejercicio:**\n",
        "\n",
        "Utilizar un ciclo `for` para escribir en pantalla los números pares que están desde 20 hasta 30 $[20,30]$\n",
        "\n",
        "\n"
      ]
    },
    {
      "cell_type": "code",
      "execution_count": null,
      "metadata": {
        "colab": {
          "base_uri": "https://localhost:8080/"
        },
        "id": "pSP2NdB0Ifmg",
        "outputId": "e118ce8a-1df7-4d0e-844f-56045d9c0bc7"
      },
      "outputs": [
        {
          "name": "stdout",
          "output_type": "stream",
          "text": [
            "20\n",
            "22\n",
            "24\n",
            "26\n",
            "28\n",
            "30\n",
            "******************************\n",
            "20\n",
            "22\n",
            "24\n",
            "26\n",
            "28\n",
            "30\n"
          ]
        }
      ],
      "source": [
        "for i in [20,22,24,26,28,30]:\n",
        "  print(i)\n",
        "\n",
        "print('*'*30)\n",
        "\n",
        "for i in list(range(20,31, 2)):\n",
        "  print(i)"
      ]
    },
    {
      "cell_type": "markdown",
      "metadata": {
        "id": "MF0xtKe0Oivk"
      },
      "source": [
        "**Ejercicio 2:**\n",
        "\n",
        "Encontrar el quinto número par en el rango de 70 a 100"
      ]
    },
    {
      "cell_type": "code",
      "execution_count": null,
      "metadata": {
        "colab": {
          "base_uri": "https://localhost:8080/"
        },
        "id": "lO8qDcWiOiS7",
        "outputId": "39b8f2bd-d955-4a83-e67c-b4b895de4f10"
      },
      "outputs": [
        {
          "name": "stdout",
          "output_type": "stream",
          "text": [
            "78\n"
          ]
        }
      ],
      "source": [
        "# Número par es todo aquel divisble por 2\n",
        "contador_par = 0\n",
        "for i in range(70, 101):\n",
        "  if i % 2 == 0:\n",
        "    contador_par += 1\n",
        "  if contador_par == 5:\n",
        "    print(i)\n",
        "    break"
      ]
    },
    {
      "cell_type": "markdown",
      "metadata": {
        "id": "6xDZiL44K-pg"
      },
      "source": [
        "**Ejercicio 3.**\n",
        "\n",
        "Encontrar el quinto número primo en el rango de 0 a 50:\n",
        "\n",
        "Imprimir en pantalla ese número\n",
        "\n"
      ]
    },
    {
      "cell_type": "markdown",
      "metadata": {
        "id": "fpGIH8RZUAb_"
      },
      "source": [
        "¿Qué es un número primo?\n",
        "- Solo divisible por si mismo y la unidad\n",
        "- Solo dos divisores\n",
        "\n",
        "Divisor:\n",
        "\n",
        "a es divisor de b si b/a = c y c es entero\n",
        "\n",
        "si el residuo de dividir b/a es cero"
      ]
    },
    {
      "cell_type": "code",
      "execution_count": null,
      "metadata": {
        "colab": {
          "base_uri": "https://localhost:8080/"
        },
        "id": "Re-9ib10K7G3",
        "outputId": "0b104d8c-00e8-4702-89d3-005222217a71"
      },
      "outputs": [
        {
          "output_type": "stream",
          "name": "stdout",
          "text": [
            "El número primo en la posición 5 es el 11\n"
          ]
        }
      ],
      "source": [
        "# 2,3,5,7,11,13,17,19\n",
        "\n",
        "pos_primo = 5\n",
        "contar_primos = 0\n",
        "n = 51\n",
        "for i in range(n):\n",
        "  contador_divisores = 0\n",
        "  for j in range(i + 1):\n",
        "    if j == 0:\n",
        "      continue\n",
        "    if i % j == 0:\n",
        "      contador_divisores += 1\n",
        "  if contador_divisores == 2:\n",
        "    contar_primos += 1\n",
        "    if contar_primos == pos_primo:\n",
        "      print(f'El número primo en la posición {pos_primo} es el {i}')\n",
        "      break\n",
        "\n"
      ]
    },
    {
      "cell_type": "markdown",
      "metadata": {
        "id": "sURCm-QDKOM1"
      },
      "source": [
        "## Estructura de datos\n",
        "Son contenedores que permiten almacenar, organizar y manipular conjuntos de datos de manera eficiente. Se utilizan para manejar colecciones de elementos y facilitar operaciones como búsqueda, ordenación y modificación de datos."
      ]
    },
    {
      "cell_type": "markdown",
      "metadata": {
        "id": "JWZtIC-kPetq"
      },
      "source": [
        "### **Listas** `list`\n",
        "- Son colecciones ordenadas y mutables.\n",
        "- Permiten almacenar cualquier tipo de dato.\n",
        "- Se pueden modificar agregando, eliminando o cambiando elementos.\n",
        "\n",
        "```\n",
        "mi_lista = [10, \"hola\", 3.14, True]\n",
        "```\n",
        "Operaciones comunes:\n",
        "- Agregar elementos: `mi_lista.append(20)`\n",
        "- Acceder a un elemento: `mi_lista[1]` → `\"hola\"`\n",
        "- Eliminar elementos: `mi_lista.remove(3.14)`\n",
        "\n",
        "| **Método** | **Descripción** | **Ejemplo** |\n",
        "|------------|----------------|------------|\n",
        "| `append(x)` | Agrega un elemento al final. | `mi_lista.append(10)` |\n",
        "| `extend(iterable)` | Extiende la lista con elementos de otro iterable. | `mi_lista.extend([20, 30])` |\n",
        "| `insert(i, x)` | Inserta un elemento en una posición específica. | `mi_lista.insert(1, 15)` |\n",
        "| `remove(x)` | Elimina la primera aparición de un elemento. | `mi_lista.remove(10)` |\n",
        "| `pop(i)` | Elimina y devuelve el elemento en la posición `i` (o el último si no se especifica `i`). | `mi_lista.pop(2)` |\n",
        "| `index(x)` | Devuelve el índice de la primera aparición del elemento. | `mi_lista.index(20)` |\n",
        "| `count(x)` | Cuenta cuántas veces aparece un elemento. | `mi_lista.count(10)` |\n",
        "| `sort()` | Ordena la lista en orden ascendente. | `mi_lista.sort()` |\n",
        "| `reverse()` | Invierte el orden de los elementos. | `mi_lista.reverse()` |\n",
        "| `copy()` | Devuelve una copia superficial de la lista. | `copia = mi_lista.copy()` |\n"
      ]
    },
    {
      "cell_type": "markdown",
      "metadata": {
        "id": "OYPj2l_6WtRQ"
      },
      "source": [
        "#### 📝 Ejercicios"
      ]
    },
    {
      "cell_type": "code",
      "source": [
        "mi_lista = [10, \"hola\", 3.14, True]\n",
        "mi_lista.append([3,1])\n",
        "print(mi_lista)\n",
        "print(mi_lista[2])\n",
        "print(mi_lista[:3])\n",
        "print(mi_lista[2:])\n",
        "print(mi_lista[1:4])\n",
        "print(mi_lista[2:-1])\n",
        "print(mi_lista[1:-2]) # toma de la posición 1 hasta -2"
      ],
      "metadata": {
        "colab": {
          "base_uri": "https://localhost:8080/"
        },
        "id": "fyG_cmNQlXFv",
        "outputId": "8c2fdc9f-69da-4ce8-b8ec-e7833489ce2f"
      },
      "execution_count": null,
      "outputs": [
        {
          "output_type": "stream",
          "name": "stdout",
          "text": [
            "[10, 'hola', 3.14, True, [3, 1]]\n",
            "3.14\n",
            "[10, 'hola', 3.14]\n",
            "[3.14, True, [3, 1]]\n",
            "['hola', 3.14, True]\n",
            "[3.14, True]\n",
            "['hola', 3.14]\n"
          ]
        }
      ]
    },
    {
      "cell_type": "markdown",
      "metadata": {
        "id": "L4o1x0y9UTt7"
      },
      "source": [
        "\n",
        "1️⃣ **Ordenar y filtrar una lista de números**\n",
        "1. Crea una lista de números enteros desordenados.\n",
        "2. Ordena la lista en orden ascendente.\n",
        "3. Filtra los números pares y almacénalos en otra lista.\n",
        "\n",
        "2️⃣ **Eliminar duplicados en una lista**\n",
        "1. Crea una lista con elementos repetidos.\n",
        "2. Elimina los duplicados y almacena los valores únicos en una nueva lista.\n",
        "3. Muestra la lista sin duplicados.\n",
        "\n",
        "3️⃣ **Suma acumulativa**\n",
        "1. Crea una lista con números del 1 al 10.\n",
        "2. Genera una nueva lista donde cada elemento sea la suma acumulativa de los elementos anteriores.\n"
      ]
    },
    {
      "cell_type": "code",
      "source": [
        "# Crea una lista de números enteros desordenados.\n",
        "numeros = [27, -1, -10, 70, 76, 3, 6, -27]\n",
        "\n",
        "# Ordena la lista en orden ascendente.\n",
        "# Ejercicio propuesto: Implementar un algoritmo de ordenamiento\n",
        "numeros.sort()\n",
        "print('Lista ordenada ascendente',numeros)\n",
        "\n",
        "# Filtra los números pares y almacénalos en otra lista.\n",
        "\n",
        "num_pares = [] # num_pares = list()\n",
        "\n",
        "for numero in numeros:\n",
        "  if numero % 2 == 0:\n",
        "    num_pares.append(numero)\n",
        "\n",
        "print('Números pares:',num_pares)\n"
      ],
      "metadata": {
        "colab": {
          "base_uri": "https://localhost:8080/"
        },
        "id": "MaZxPHZqoMUf",
        "outputId": "9cfe955c-eaef-4dee-835b-4639db24549d"
      },
      "execution_count": null,
      "outputs": [
        {
          "output_type": "stream",
          "name": "stdout",
          "text": [
            "Lista ordenada ascendente [-27, -10, -1, 3, 6, 27, 70, 76]\n",
            "Números pares: [-10, 6, 70, 76]\n"
          ]
        }
      ]
    },
    {
      "cell_type": "code",
      "source": [
        "# Crea una lista con elementos repetidos.\n",
        "# Elimina los duplicados y almacena los valores únicos en una nueva lista.\n",
        "# Muestra la lista sin duplicados.\n",
        "\n",
        "# Opción 1\n",
        "numeros=[2,3,5,1,9,3,4,5,2,1,6,7,8,9,6,7,8,9,2,3,5,1,4,7]\n",
        "\n",
        "lista_no_repetidos = []\n",
        "for element in numeros:\n",
        "  if element not in lista_no_repetidos:\n",
        "    lista_no_repetidos.append(element)\n",
        "print('Lista Original:', numeros)\n",
        "print('Lista No Repetidos:', lista_no_repetidos)\n",
        "\n",
        "\n",
        "# Opción 2\n",
        "numeros=[2,3,5,1,9,3,4,5,2,1,6,7,8,9,6,7,8,9,2,3,5,1,4,7]\n",
        "print('Lista Original opción 2:', numeros)\n",
        "copia = numeros.copy()\n",
        "for i in range(len(numeros)):\n",
        "  numer_no_repetido = numeros[i]\n",
        "  lista = numeros[i+1:]\n",
        "  if numer_no_repetido in lista:\n",
        "    copia.remove(numer_no_repetido)\n",
        "print('Lista sin numeros repetidos opción 2:', copia)\n"
      ],
      "metadata": {
        "colab": {
          "base_uri": "https://localhost:8080/"
        },
        "id": "KGDIdmw4rozj",
        "outputId": "ab6859e2-0ac7-47c5-f56f-bd2cbb41c812"
      },
      "execution_count": null,
      "outputs": [
        {
          "output_type": "stream",
          "name": "stdout",
          "text": [
            "Lista ordenada: [2, 3, 5, 1, 9, 3, 4, 5, 2, 1, 6, 7, 8, 9, 6, 7, 8, 9, 2, 3, 5, 1, 4, 7]\n",
            "Lista sin numeros repetidos [6, 8, 9, 2, 3, 5, 1, 4, 7]\n"
          ]
        }
      ]
    },
    {
      "cell_type": "code",
      "source": [
        "# Crea una lista con números del 1 al 10.\n",
        "# Genera una nueva lista donde cada elemento sea la suma acumulativa de los elementos anteriores.\n",
        "\n",
        "suma_acumulada = 0\n",
        "numeros = [2,3,5,1,9,3,4,5,2,1,6,7,8,9,6,7,8,9,2,3,5,1,4,7]\n",
        "sumas_acumulada = []\n",
        "for num in numeros:\n",
        "  suma_acumulada += num\n",
        "  sumas_acumulada.append(suma_acumulada)\n",
        "print('Lista Original:', numeros)\n",
        "print('Lista Acumulada:', sumas_acumulada)\n"
      ],
      "metadata": {
        "colab": {
          "base_uri": "https://localhost:8080/"
        },
        "id": "-jv7z_kH29Xd",
        "outputId": "17cc2f97-437a-4b21-803b-da4ef6963c4c"
      },
      "execution_count": null,
      "outputs": [
        {
          "output_type": "stream",
          "name": "stdout",
          "text": [
            "Lista Original: [2, 3, 5, 1, 9, 3, 4, 5, 2, 1, 6, 7, 8, 9, 6, 7, 8, 9, 2, 3, 5, 1, 4, 7]\n",
            "Lista Acumulada: [2, 5, 10, 11, 20, 23, 27, 32, 34, 35, 41, 48, 56, 65, 71, 78, 86, 95, 97, 100, 105, 106, 110, 117]\n"
          ]
        }
      ]
    },
    {
      "cell_type": "code",
      "source": [
        "## Caso de uso\n",
        "csv_data = \"\"\"Nombre,Edad,Calificacion\n",
        "Ana,17,85\n",
        "Luis,19,78\n",
        "Carlos,18,92\n",
        "Sofia,21,88\n",
        "Marta,20,75\n",
        "Jorge,22,81\n",
        "Lucia,16,95\n",
        "\"\"\"\n",
        "\n",
        "nombre_archivo_csv = 'data_calificaciones.csv'\n",
        "\n",
        "with open(nombre_archivo_csv, 'w', encoding='utf-8') as archivo:\n",
        "  archivo.write(csv_data)\n",
        "print('Archivio guardado...')\n"
      ],
      "metadata": {
        "colab": {
          "base_uri": "https://localhost:8080/"
        },
        "id": "1mNwRKwb7fLo",
        "outputId": "0afe7208-e8cb-4b83-9758-f73f60b6b37f"
      },
      "execution_count": null,
      "outputs": [
        {
          "output_type": "stream",
          "name": "stdout",
          "text": [
            "Archivio guardado...\n"
          ]
        }
      ]
    },
    {
      "cell_type": "code",
      "source": [
        "with open(nombre_archivo_csv, 'r', encoding='utf-8') as archivo:\n",
        "  for linea in archivo:\n",
        "    print(linea)"
      ],
      "metadata": {
        "colab": {
          "base_uri": "https://localhost:8080/"
        },
        "id": "GDChr4AF8s4R",
        "outputId": "4cdf60fa-1293-44ab-afab-f365da0b45d3"
      },
      "execution_count": null,
      "outputs": [
        {
          "output_type": "stream",
          "name": "stdout",
          "text": [
            "Nombre,Edad,Calificacion\n",
            "\n",
            "Ana,17,85\n",
            "\n",
            "Luis,19,78\n",
            "\n",
            "Carlos,18,92\n",
            "\n",
            "Sofia,21,88\n",
            "\n",
            "Marta,20,75\n",
            "\n",
            "Jorge,22,81\n",
            "\n",
            "Lucia,16,95\n",
            "\n"
          ]
        }
      ]
    },
    {
      "cell_type": "code",
      "source": [
        "data = []\n",
        "with open(nombre_archivo_csv, 'r', encoding='utf-8') as archivo:\n",
        "  for linea in archivo:\n",
        "    data.append(linea)\n",
        "print(data)"
      ],
      "metadata": {
        "colab": {
          "base_uri": "https://localhost:8080/"
        },
        "id": "hxX2ptA-9La-",
        "outputId": "a4c3fbc8-e460-46ca-b3a8-dc7a83471349"
      },
      "execution_count": null,
      "outputs": [
        {
          "output_type": "stream",
          "name": "stdout",
          "text": [
            "['Nombre,Edad,Calificacion\\n', 'Ana,17,85\\n', 'Luis,19,78\\n', 'Carlos,18,92\\n', 'Sofia,21,88\\n', 'Marta,20,75\\n', 'Jorge,22,81\\n', 'Lucia,16,95\\n']\n"
          ]
        }
      ]
    },
    {
      "cell_type": "markdown",
      "metadata": {
        "id": "wFTmTZHUQBdp"
      },
      "source": [
        "### **Tuplas** `tuple`\n",
        "\n",
        "- Son colecciones ordenadas e inmutables.\n",
        "- No se pueden modificar después de su creación.\n",
        "- Útiles cuando los datos deben permanecer constantes.\n",
        "```\n",
        "mi_tupla = (1, 2, 3, \"Python\")\n",
        "```\n",
        " Operaciones comunes:\n",
        "- Acceder a un elemento: `mi_tupla[0]` → `1`\n",
        "- Contar elementos: `mi_tupla.count(2)`\n",
        "\n",
        "| **Método** | **Descripción** | **Ejemplo** |\n",
        "|------------|----------------|------------|\n",
        "| `count(x)` | Devuelve cuántas veces aparece un elemento. | `mi_tupla.count(5)` |\n",
        "| `index(x)` | Devuelve el índice de la primera aparición de un elemento. | `mi_tupla.index(10)` |\n"
      ]
    },
    {
      "cell_type": "markdown",
      "metadata": {
        "id": "O-gJytk7YQZl"
      },
      "source": [
        "#### 📝 Ejercicios"
      ]
    },
    {
      "cell_type": "markdown",
      "metadata": {
        "id": "1ikSZ_osZkHU"
      },
      "source": [
        "1️⃣ **Contar ocurrencias de un elemento**\n",
        "1. Crea una tupla con varios elementos repetidos.\n",
        "2. Solicita al usuario un número.\n",
        "3. Muestra cuántas veces aparece ese número en la tupla.\n",
        "\n",
        "2️⃣ **Acceder a elementos con índice negativo**\n",
        "1. Crea una tupla con 5 nombres de ciudades.\n",
        "2. Imprime el último y el penúltimo elemento utilizando índices negativos.\n",
        "\n",
        "3️⃣ **Conversión entre estructuras**\n",
        "1. Crea una tupla con números enteros.\n",
        "2. Convierte la tupla en una lista.\n",
        "3. Agrega un nuevo número a la lista y luego conviértela de nuevo en tupla.\n"
      ]
    },
    {
      "cell_type": "markdown",
      "metadata": {
        "id": "D3YEVMi2Rvwx"
      },
      "source": [
        "### **Conjuntos** `set`\n",
        "- Son colecciones desordenadas y sin elementos duplicados.\n",
        "- Se usan para operaciones de conjuntos como unión e intersección.\n",
        "\n",
        "\n",
        "```\n",
        "mi_set = {1, 2, 3, 4, 4, 5}\n",
        "```\n",
        "\n",
        "Operaciones comunes:\n",
        "- Agregar elementos: `mi_set.add(6)`\n",
        "- Eliminar elementos: `mi_set.remove(2)`\n",
        "- Unión de conjuntos: `mi_set.union({7, 8, 9})`\n",
        "\n",
        "\n",
        "| **Método** | **Descripción** | **Ejemplo** |\n",
        "|------------|----------------|------------|\n",
        "| `add(x)` | Agrega un elemento. | `mi_set.add(10)` |\n",
        "| `remove(x)` | Elimina un elemento (error si no existe). | `mi_set.remove(5)` |\n",
        "| `discard(x)` | Elimina un elemento (sin error si no existe). | `mi_set.discard(5)` |\n",
        "| `pop()` | Elimina y devuelve un elemento aleatorio. | `mi_set.pop()` |\n",
        "| `clear()` | Elimina todos los elementos. | `mi_set.clear()` |\n",
        "| `union(set2)` | Devuelve la unión de dos conjuntos. | `mi_set.union(otro_set)` |\n",
        "| `intersection(set2)` | Devuelve la intersección de dos conjuntos. | `mi_set.intersection(otro_set)` |\n",
        "| `difference(set2)` | Devuelve la diferencia entre dos conjuntos. | `mi_set.difference(otro_set)` |\n",
        "\n"
      ]
    },
    {
      "cell_type": "markdown",
      "metadata": {
        "id": "nlY1064fYty8"
      },
      "source": [
        "#### 📝 Ejercicios"
      ]
    },
    {
      "cell_type": "markdown",
      "metadata": {
        "id": "YB7i2yWbaWPa"
      },
      "source": [
        "1️⃣ **Unión e intersección de conjuntos**\n",
        "1. Crea dos conjuntos con diferentes números.\n",
        "2. Calcula la unión y la intersección de ambos conjuntos.\n",
        "3. Muestra los resultados.\n",
        "\n",
        "2️⃣ **Eliminar duplicados de una lista usando un conjunto**\n",
        "1. Crea una lista con elementos repetidos.\n",
        "2. Usa un conjunto para eliminar los duplicados.\n",
        "3. Convierte el conjunto nuevamente en una lista.\n",
        "\n",
        "3️⃣ **Verificar si un número pertenece a un conjunto**\n",
        "1. Crea un conjunto con números del 1 al 10.\n",
        "2. Pide al usuario un número.\n",
        "3. Indica si el número está presente en el conjunto."
      ]
    },
    {
      "cell_type": "markdown",
      "metadata": {
        "id": "8iPI6tbaRI2g"
      },
      "source": [
        "### **Diccionarios** `dict`\n",
        "\n",
        "- Son colecciones desordenadas de pares clave-valor.\n",
        "- Permiten acceder a los datos a través de una clave.\n",
        "\n",
        "\n",
        "\n",
        "```\n",
        "mi_diccionario = {\"nombre\": \"Ana\", \"edad\": 25, \"ciudad\": \"Bogotá\"}\n",
        "```\n",
        "Operaciones comunes:\n",
        "- Acceder a un valor: `mi_diccionario[\"nombre\"]` → `\"Ana\"`\n",
        "- Agregar elementos: `mi_diccionario[\"pais\"] = \"Colombia\"`\n",
        "- Eliminar elementos: `del mi_diccionario[\"edad\"]`\n",
        "\n",
        "\n",
        "| **Método** | **Descripción** | **Ejemplo** |\n",
        "|------------|----------------|------------|\n",
        "| `get(clave, valor_predeterminado)` | Devuelve el valor de una clave (o un valor predeterminado si no existe). | `mi_dicc.get(\"nombre\", \"No encontrado\")` |\n",
        "| `keys()` | Devuelve una vista de las claves. | `mi_dicc.keys()` |\n",
        "| `values()` | Devuelve una vista de los valores. | `mi_dicc.values()` |\n",
        "| `items()` | Devuelve una vista de los pares clave-valor. | `mi_dicc.items()` |\n",
        "| `update(otro_dicc)` | Actualiza el diccionario con otro. | `mi_dicc.update({\"edad\": 30})` |\n",
        "| `pop(clave)` | Elimina y devuelve el valor de la clave dada. | `mi_dicc.pop(\"nombre\")` |\n",
        "| `popitem()` | Elimina y devuelve un par clave-valor aleatorio. | `mi_dicc.popitem()` |\n",
        "| `setdefault(clave, valor)` | Devuelve el valor de una clave o la crea con un valor si no existe. | `mi_dicc.setdefault(\"pais\", \"Colombia\")` |\n",
        "| `clear()` | Vacía el diccionario. | `mi_dicc.clear()` |"
      ]
    },
    {
      "cell_type": "markdown",
      "metadata": {
        "id": "kesvzMqYYeCU"
      },
      "source": [
        "#### 📝 Ejercicios"
      ]
    },
    {
      "cell_type": "markdown",
      "metadata": {
        "id": "VhUMngg6a195"
      },
      "source": [
        "1️⃣ **Contar la frecuencia de palabras en una frase**\n",
        "1. Solicita al usuario que ingrese una frase.\n",
        "2. Crea un diccionario donde las claves sean las palabras y los valores indiquen cuántas veces aparece cada una.\n",
        "3. Muestra el diccionario resultante.\n",
        "\n",
        "2️⃣ **Registro de notas de estudiantes**\n",
        "1. Crea un diccionario donde las claves sean nombres de estudiantes y los valores sean sus notas.\n",
        "2. Agrega nuevas notas y actualiza los valores de los estudiantes existentes.\n",
        "3. Calcula el promedio de las notas.\n",
        "\n",
        "3️⃣ **Invertir un diccionario (intercambiar claves y valores)**\n",
        "1. Crea un diccionario con pares clave-valor.\n",
        "2. Invierte el diccionario para que las claves sean los valores y viceversa.\n",
        "3. Muestra el diccionario invertido."
      ]
    },
    {
      "cell_type": "markdown",
      "metadata": {
        "id": "eTueY2A-SO_2"
      },
      "source": [
        "### ¿Cuándo usar cada estructura?\n",
        "\n",
        "| **Estructura**  | **Cuándo usarla** |\n",
        "|----------------|------------------------------|\n",
        "| **Lista (`list`)** | Cuando se necesita una colección ordenada y modificable. |\n",
        "| **Tupla (`tuple`)** | Cuando los datos no deben cambiar. |\n",
        "| **Conjunto (`set`)** | Cuando se necesita una colección sin duplicados. |\n",
        "| **Diccionario (`dict`)** | Cuando se requiere acceder a valores mediante claves. |\n"
      ]
    },
    {
      "cell_type": "markdown",
      "metadata": {
        "id": "CWjYn4yMVZMM"
      },
      "source": [
        "### Soluciones\n",
        "\n",
        "\n"
      ]
    },
    {
      "cell_type": "markdown",
      "metadata": {
        "id": "6NvRzpXLY9IM"
      },
      "source": [
        "\n",
        "#### Listas\n",
        "\n",
        "1. ```python\n",
        "numeros = [8, 3, 10, 1, 7, 4, 6]\n",
        "numeros.sort()\n",
        "pares = [num for num in numeros if num % 2 == 0]\n",
        "print(\"Lista ordenada:\", numeros)\n",
        "print(\"Números pares:\", pares)\n",
        "```\n",
        "2. ```python\n",
        "lista = [1, 2, 2, 3, 4, 4, 5]\n",
        "sin_duplicados = list(set(lista))\n",
        "print(\"Lista sin duplicados:\", sin_duplicados)\n",
        "```\n",
        "3. ```python\n",
        "numeros = [1, 2, 3, 4, 5, 6, 7, 8, 9, 10]\n",
        "suma_acumulada = [sum(numeros[:i+1]) for i in range(len(numeros))]\n",
        "print(\"Suma acumulativa:\", suma_acumulada)\n",
        "```\n"
      ]
    },
    {
      "cell_type": "markdown",
      "metadata": {
        "id": "T62P9HiDWLXU"
      },
      "source": [
        "\n",
        "#### Tuplas"
      ]
    },
    {
      "cell_type": "markdown",
      "metadata": {
        "id": "B8tGZPlsaJNv"
      },
      "source": [
        "1. ```python\n",
        "mi_tupla = (1, 2, 3, 2, 5, 2, 6)\n",
        "num = int(input(\"Ingrese un número: \"))\n",
        "print(f\"El número {num} aparece {mi_tupla.count(num)} veces en la tupla.\")\n",
        "```\n",
        "\n",
        "\n",
        "2. ```python\n",
        "ciudades = (\"Bogotá\", \"Medellín\", \"Cali\", \"Barranquilla\", \"Cartagena\")\n",
        "print(\"Última ciudad:\", ciudades[-1])\n",
        "print(\"Penúltima ciudad:\", ciudades[-2])\n",
        "```\n",
        "\n",
        "\n",
        "3. ```python\n",
        "mi_tupla = (1, 2, 3, 4)\n",
        "mi_lista = list(mi_tupla)\n",
        "mi_lista.append(5)\n",
        "mi_tupla = tuple(mi_lista)\n",
        "print(\"Nueva tupla:\", mi_tupla)\n",
        "```"
      ]
    },
    {
      "cell_type": "markdown",
      "metadata": {
        "id": "M7Bcc2VVZAWE"
      },
      "source": [
        "#### Conjuntos"
      ]
    },
    {
      "cell_type": "markdown",
      "metadata": {
        "id": "4qcXnOZCap-X"
      },
      "source": [
        "1. ```python\n",
        "conjunto1 = {1, 2, 3, 4}\n",
        "conjunto2 = {3, 4, 5, 6}\n",
        "print(\"Unión:\", conjunto1 | conjunto2)\n",
        "print(\"Intersección:\", conjunto1 & conjunto2)\n",
        "```\n",
        "\n",
        "\n",
        "2. ```python\n",
        "lista = [1, 2, 2, 3, 3, 4, 5, 5]\n",
        "sin_duplicados = list(set(lista))\n",
        "print(\"Lista sin duplicados:\", sin_duplicados)\n",
        "```\n",
        "\n",
        "3. ```python\n",
        "numeros = {1, 2, 3, 4, 5, 6, 7, 8, 9, 10}\n",
        "num = int(input(\"Ingrese un número: \"))\n",
        "if num in numeros:\n",
        "    print(f\"El número {num} está en el conjunto.\")\n",
        "else:\n",
        "    print(f\"El número {num} NO está en el conjunto.\")\n",
        "```"
      ]
    },
    {
      "cell_type": "markdown",
      "metadata": {
        "id": "Ge-jVOFuZDTQ"
      },
      "source": [
        "#### Diccionarios"
      ]
    },
    {
      "cell_type": "markdown",
      "metadata": {
        "id": "b_fH3i47bWeH"
      },
      "source": [
        "1. ```python\n",
        "frase = input(\"Ingrese una frase: \")\n",
        "palabras = frase.split()\n",
        "frecuencia = {palabra: palabras.count(palabra) for palabra in palabras}\n",
        "print(\"Frecuencia de palabras:\", frecuencia)\n",
        "```\n",
        "\n",
        "\n",
        "2. ```python\n",
        "notas = {\"Ana\": 4.5, \"Pedro\": 3.8, \"Laura\": 4.0}\n",
        "notas[\"Juan\"] = 4.2  # Agregar nueva nota\n",
        "notas[\"Pedro\"] = 4.0  # Actualizar nota\n",
        "promedio = sum(notas.values()) / len(notas)\n",
        "print(\"Promedio de notas:\", promedio)\n",
        "```\n",
        "\n",
        "3. ```python\n",
        "mi_diccionario = {\"rojo\": \"red\", \"azul\": \"blue\", \"verde\": \"green\"}\n",
        "invertido = {valor: clave for clave, valor in mi_diccionario.items()}\n",
        "print(\"Diccionario invertido:\", invertido)\n",
        "```\n"
      ]
    },
    {
      "cell_type": "code",
      "execution_count": null,
      "metadata": {
        "id": "X9IjuQSGWK6b"
      },
      "outputs": [],
      "source": []
    },
    {
      "cell_type": "markdown",
      "metadata": {
        "id": "sHQB4UJvKhK7"
      },
      "source": [
        "## Funciones y bibliotecas de Python\n"
      ]
    },
    {
      "cell_type": "markdown",
      "metadata": {
        "id": "7QQm4aqVjAvI"
      },
      "source": [
        "`pandas`"
      ]
    }
  ],
  "metadata": {
    "colab": {
      "provenance": [],
      "include_colab_link": true
    },
    "kernelspec": {
      "display_name": "Python 3",
      "name": "python3"
    },
    "language_info": {
      "name": "python"
    }
  },
  "nbformat": 4,
  "nbformat_minor": 0
}